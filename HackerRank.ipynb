{
 "cells": [
  {
   "cell_type": "markdown",
   "metadata": {},
   "source": [
    "# 1. Arrays - Data Structure - Array reverse\n",
    "\n",
    "[HackeRank - arrays-ds](https://www.hackerrank.com/challenges/arrays-ds)"
   ]
  },
  {
   "cell_type": "code",
   "execution_count": 18,
   "metadata": {
    "collapsed": false
   },
   "outputs": [
    {
     "name": "stdout",
     "output_type": "stream",
     "text": [
      "['1', '4', '3', '2']\n",
      "['2', '3', '4', '1']\n"
     ]
    }
   ],
   "source": [
    "n = 4\n",
    "input_string = \"1 4 3 2\"\n",
    "array = input_string.split(\" \")\n",
    "\n",
    "def reverse_array(arr):\n",
    "    return arr[::-1]\n",
    "\n",
    "print(array)\n",
    "print(reverse_array(array))"
   ]
  },
  {
   "cell_type": "markdown",
   "metadata": {},
   "source": [
    "# Usefuls links \n",
    "\n",
    "[Arrays in Python](http://www.i-programmer.info/programming/python/3942-arrays-in-python.html) \n",
    "\n",
    "[Python String split Method](https://www.tutorialspoint.com/python/string_split.htm) \n",
    "\n",
    "[How to Slice Lists/Arrays and Tuples in Python](http://pythoncentral.io/how-to-slice-listsarrays-and-tuples-in-python/) \n",
    "\n",
    "[Python String join Method](https://www.tutorialspoint.com/python/string_join.htm)"
   ]
  },
  {
   "cell_type": "markdown",
   "metadata": {},
   "source": [
    "# Unit test"
   ]
  },
  {
   "cell_type": "code",
   "execution_count": 23,
   "metadata": {
    "collapsed": false
   },
   "outputs": [
    {
     "name": "stderr",
     "output_type": "stream",
     "text": [
      "...\n",
      "----------------------------------------------------------------------\n",
      "Ran 3 tests in 0.003s\n",
      "\n",
      "OK\n"
     ]
    },
    {
     "data": {
      "text/plain": [
       "<unittest.runner.TextTestResult run=3 errors=0 failures=0>"
      ]
     },
     "execution_count": 23,
     "metadata": {},
     "output_type": "execute_result"
    }
   ],
   "source": [
    "from unittest import *\n",
    "\n",
    "class reverse_case(unittest.TestCase):\n",
    "    \n",
    "    def test_reverse_0(self):\n",
    "        array_test = [1, 2, 3, 4]\n",
    "        array_positive = [4, 3, 2, 1]\n",
    "        self.assertEqual(reverse_array(array_test), array_positive)\n",
    "        \n",
    "    def test_reverse_1(self):\n",
    "        array_test = [1, 2, 3, 4, 5, 6, 7, 8, 9, 0]\n",
    "        array_positive = [0, 9, 8, 7, 6, 5, 4, 3, 2, 1]\n",
    "        self.assertEqual(reverse_array(array_test), array_positive)\n",
    "        \n",
    "    def test_reverse_2(self):\n",
    "        array_test = [1, 1, 2, 3, 5, 8, 13, 21, 34, 55, 89, 144]\n",
    "        array_positive = [144, 89, 55, 34, 21, 13, 8, 5, 3, 2, 1, 1]\n",
    "        self.assertEqual(reverse_array(array_test), array_positive)\n",
    "\n",
    "\n",
    "a = reverse_case()\n",
    "suite = unittest.TestLoader().loadTestsFromModule(a)\n",
    "unittest.TextTestRunner().run(suite)"
   ]
  },
  {
   "cell_type": "markdown",
   "metadata": {},
   "source": [
    "# Usefuls links \n",
    "\n",
    "[Running Unitests In The IPYTHON Notebook](https://amodernstory.com/2015/06/28/running-unittests-in-the-ipython-notebook/) \n",
    "\n",
    "[Test-driven development](https://en.wikipedia.org/wiki/Test-driven_development) \n",
    "\n",
    "[Testing for success](http://www.diveintopython.net/unit_testing/testing_for_success.html)"
   ]
  },
  {
   "cell_type": "markdown",
   "metadata": {},
   "source": [
    "# 2. 2D array - sum hourglasses\n",
    "\n",
    "[HackeRank - 2D array](https://www.hackerrank.com/challenges/2d-array)"
   ]
  },
  {
   "cell_type": "code",
   "execution_count": 39,
   "metadata": {
    "collapsed": false
   },
   "outputs": [
    {
     "name": "stdout",
     "output_type": "stream",
     "text": [
      "   0  1  2  3  4  5\n",
      "0  1  1  1  0  0  0\n",
      "1  0  1  0  0  0  0\n",
      "2  1  1  1  0  0  0\n",
      "3  0  9  2 -4 -4  0\n",
      "4  0  0  0 -2  0  0\n",
      "5  0  0 -1 -2 -4  0\n",
      "\n",
      " max value hourglass:  13\n"
     ]
    }
   ],
   "source": [
    "import sys\n",
    "from pandas import *\n",
    "\n",
    "arr = []\n",
    "arr.append([1, 1, 1, 0, 0, 0])\n",
    "arr.append([0, 1, 0, 0, 0, 0])\n",
    "arr.append([1, 1, 1, 0, 0, 0])\n",
    "arr.append([0, 9, 2, -4, -4, 0])\n",
    "arr.append([0, 0, 0, -2, 0, 0])\n",
    "arr.append([0, 0, -1, -2, -4, 0])\n",
    "\n",
    "# print pretty matrix using pandas framework, useful to understand problem and debug purposes.\n",
    "# printing indexes\n",
    "\n",
    "print(DataFrame(arr))\n",
    "\n",
    "# Solution, iterate matrix using two indexes (i, j), double bucle\n",
    "def get_max_hourglass(matrix):\n",
    "    \n",
    "    max_n = sys.maxsize * -1\n",
    "    for i in range(4):\n",
    "        for j in range(4):\n",
    "            max_n = max(max_n, sum(matrix[i][j : j + 3]) + \n",
    "                                   matrix[i + 1][j + 1]  +\n",
    "                               sum(matrix[i + 2][j : j + 3]))\n",
    "    return max_n\n",
    "            \n",
    "print('\\n max value hourglass: ', get_max_hourglass(arr))"
   ]
  },
  {
   "cell_type": "markdown",
   "metadata": {},
   "source": [
    "# Useful links\n",
    "\n",
    "[System-specific parameters and functions](https://docs.python.org/3/library/sys.html) \n",
    "\n",
    "[2D - python](https://www.dotnetperls.com/2d-python) \n",
    "\n",
    "[matrix representation](https://en.wikipedia.org/wiki/Matrix_representation)"
   ]
  },
  {
   "cell_type": "markdown",
   "metadata": {},
   "source": [
    "# Unit test"
   ]
  },
  {
   "cell_type": "code",
   "execution_count": 110,
   "metadata": {
    "collapsed": false
   },
   "outputs": [
    {
     "name": "stderr",
     "output_type": "stream",
     "text": [
      "...\n",
      "----------------------------------------------------------------------\n",
      "Ran 3 tests in 0.003s\n",
      "\n",
      "OK\n"
     ]
    },
    {
     "data": {
      "text/plain": [
       "<unittest.runner.TextTestResult run=3 errors=0 failures=0>"
      ]
     },
     "execution_count": 110,
     "metadata": {},
     "output_type": "execute_result"
    }
   ],
   "source": [
    "from unittest import *\n",
    "import numpy as np\n",
    "\n",
    "class reverse_case(unittest.TestCase):\n",
    "    \n",
    "    def test_matrix_0(self):\n",
    "        array_test = []\n",
    "        array_test.append([1, 1, 1, 0, 0, 0])\n",
    "        array_test.append([0, 1, 0, 0, 0, 0])\n",
    "        array_test.append([1, 1, 1, 0, 0, 0])\n",
    "        array_test.append([0, 9, 2, -4, -4, 0])\n",
    "        array_test.append([0, 0, 0, -2, 0, 0])\n",
    "        array_test.append([0, 0, -1, -2, -4, 0])\n",
    "        max_hourglass = 13\n",
    "        self.assertEqual(get_max_hourglass(array_test), max_hourglass)\n",
    "        \n",
    "    def test_matrix_1(self):\n",
    "        # using numpy framework to generate random matrix 6 X 6\n",
    "        # using \"seed\" to obtain numbers predictable\n",
    "        np.random.seed(0)\n",
    "        array_test = np.random.random((6, 6)) * 9\n",
    "        max_hourglass = 53.0\n",
    "        self.assertEqual(round(get_max_hourglass(array_test)), max_hourglass)\n",
    "        \n",
    "    def test_matrix_2(self):\n",
    "        # using numpy framework to generate random matrix 6 X 6\n",
    "        # using \"seed\" to obtain numbers predictable\n",
    "        np.random.seed(7)\n",
    "        array_test = np.random.random((6, 6)) * 9\n",
    "        max_hourglass = 40.0\n",
    "        self.assertEqual(round(get_max_hourglass(array_test)), max_hourglass)\n",
    "    \n",
    "a = reverse_case()\n",
    "suite = unittest.TestLoader().loadTestsFromModule(a)\n",
    "unittest.TextTestRunner().run(suite)"
   ]
  },
  {
   "cell_type": "markdown",
   "metadata": {},
   "source": [
    "# Useful links\n",
    "\n",
    "[Numpy random](http://docs.scipy.org/doc/numpy/reference/generated/numpy.random.random.html#numpy.random.random) \n",
    "\n",
    "[Python Number round Method](https://www.tutorialspoint.com/python/number_round.htm)"
   ]
  },
  {
   "cell_type": "markdown",
   "metadata": {},
   "source": [
    "# 3. Sparse arrays\n",
    "\n",
    "[Sparse Arrays](https://www.hackerrank.com/challenges/sparse-arrays)"
   ]
  },
  {
   "cell_type": "code",
   "execution_count": 131,
   "metadata": {
    "collapsed": false
   },
   "outputs": [
    {
     "name": "stdout",
     "output_type": "stream",
     "text": [
      "[2, 1, 0]\n"
     ]
    }
   ],
   "source": [
    "from collections import Counter\n",
    "words = []\n",
    "\n",
    "words.append('aba')\n",
    "words.append('baba')\n",
    "words.append('aba')\n",
    "words.append('xzxb')\n",
    "\n",
    "# Similar to dictionary, but better performance\n",
    "counter_words = Counter(words)\n",
    "\n",
    "words_review = ['aba' ,'xzxb', 'ab']\n",
    "counts = []\n",
    "def count_per_word(arr):\n",
    "    counts = []\n",
    "    for word in arr:\n",
    "        counts.append(counter_words[word])\n",
    "    return counts\n",
    "        \n",
    "counts_per_word = count_per_word(words_review)\n",
    "print(counts_per_word)\n"
   ]
  },
  {
   "cell_type": "markdown",
   "metadata": {},
   "source": [
    "# Useful links\n",
    "\n",
    "[Collections - counter](https://docs.python.org/3.6/library/collections.html#collections.Counter)"
   ]
  },
  {
   "cell_type": "markdown",
   "metadata": {},
   "source": [
    "# Unit Test"
   ]
  },
  {
   "cell_type": "code",
   "execution_count": 132,
   "metadata": {
    "collapsed": false
   },
   "outputs": [
    {
     "name": "stderr",
     "output_type": "stream",
     "text": [
      ".\n",
      "----------------------------------------------------------------------\n",
      "Ran 1 test in 0.001s\n",
      "\n",
      "OK\n"
     ]
    },
    {
     "data": {
      "text/plain": [
       "<unittest.runner.TextTestResult run=1 errors=0 failures=0>"
      ]
     },
     "execution_count": 132,
     "metadata": {},
     "output_type": "execute_result"
    }
   ],
   "source": [
    "from unittest import *\n",
    "\n",
    "class sparse_array_case(unittest.TestCase):\n",
    "    \n",
    "    def test_sparse_array_0(self):\n",
    "        counts_per_word_test = count_per_word(words_review)\n",
    "        self.assertEqual([2,1,0], counts_per_word_test)\n",
    "        \n",
    "a = sparse_array_case()\n",
    "suite = unittest.TestLoader().loadTestsFromModule(a)\n",
    "unittest.TextTestRunner().run(suite)"
   ]
  }
 ],
 "metadata": {
  "kernelspec": {
   "display_name": "Python 3",
   "language": "python",
   "name": "python3"
  },
  "language_info": {
   "codemirror_mode": {
    "name": "ipython",
    "version": 3
   },
   "file_extension": ".py",
   "mimetype": "text/x-python",
   "name": "python",
   "nbconvert_exporter": "python",
   "pygments_lexer": "ipython3",
   "version": "3.5.2"
  }
 },
 "nbformat": 4,
 "nbformat_minor": 0
}
